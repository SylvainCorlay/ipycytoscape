{
 "cells": [
  {
   "cell_type": "code",
   "execution_count": 1,
   "metadata": {},
   "outputs": [],
   "source": [
    "import ipycytoscape"
   ]
  },
  {
   "cell_type": "code",
   "execution_count": 2,
   "metadata": {},
   "outputs": [],
   "source": [
    "cytoscapeobj = ipycytoscape.CytoscapeWidget()"
   ]
  },
  {
   "cell_type": "code",
   "execution_count": 3,
   "metadata": {},
   "outputs": [],
   "source": [
    "cytoscapeobj.graph.update({\n",
    "  \"nodes\": [\n",
    "    {\n",
    "      \"data\": {\n",
    "        \"id\": \"605755\",\n",
    "        \"idInt\": 605755,\n",
    "        \"name\": \"PCNA\",\n",
    "        \"score\": 0.006769776522008331,\n",
    "        \"query\": 'true',\n",
    "        \"gene\": 'true'\n",
    "      },\n",
    "      \"position\": {\n",
    "        \"x\": 481.0169597039117,\n",
    "        \"y\": 384.8210888234145\n",
    "      },\n",
    "      \"group\": \"nodes\",\n",
    "      \"removed\": 'false',\n",
    "      \"selected\": 'false',\n",
    "      \"selectable\": 'true',\n",
    "      \"locked\": 'false',\n",
    "      \"grabbed\": 'false',\n",
    "      \"grabbable\": 'true',\n",
    "      \"classes\": \"fn10273 fn6944 fn9471 fn10569 fn8023 fn6956 fn6935 fn8147 fn6939 fn6936 fn6629 fn7928 fn6947 fn8612 fn6957 fn8786 fn6246 fn9367 fn6945 fn6946 fn10024 fn10022 fn6811 fn9361 fn6279 fn6278 fn8569 fn7641 fn8568 fn6943\"\n",
    "    },\n",
    "    {\n",
    "      \"data\": {\n",
    "        \"id\": \"611408\",\n",
    "        \"idInt\": 611408,\n",
    "        \"name\": \"FEN1\",\n",
    "        \"score\": 0.006769776522008331,\n",
    "        \"query\": 'false',\n",
    "        \"gene\": 'true'\n",
    "      },\n",
    "      \"position\": {\n",
    "        \"x\": 531.9740635094307,\n",
    "        \"y\": 464.8210898234145\n",
    "      },\n",
    "      \"group\": \"nodes\",\n",
    "      \"removed\": 'false',\n",
    "      \"selected\": 'false',\n",
    "      \"selectable\": 'true',\n",
    "      \"locked\": 'false',\n",
    "      \"grabbed\": 'false',\n",
    "      \"grabbable\": 'true',\n",
    "      \"classes\": \"fn10273 fn6944 fn9471 fn6284 fn6956 fn6935 fn8147 fn6939 fn6936 fn6949 fn6629 fn7952 fn6680 fn6957 fn8786 fn6676 fn10713 fn7495 fn7500 fn9361 fn6279 fn6278 fn8569 fn7641 fn8568\"\n",
    "    }\n",
    "]})"
   ]
  },
  {
   "cell_type": "code",
   "execution_count": 4,
   "metadata": {},
   "outputs": [
    {
     "data": {
      "application/vnd.jupyter.widget-view+json": {
       "model_id": "c2227ffb2aa44dc7ae919390a16b57d3",
       "version_major": 2,
       "version_minor": 0
      },
      "text/plain": [
       "CytoscapeWidget(graph={'nodes': [{'data': {'id': '605755', 'idInt': 605755, 'name': 'PCNA', 'score': 0.0067697…"
      ]
     },
     "metadata": {},
     "output_type": "display_data"
    }
   ],
   "source": [
    "cytoscapeobj"
   ]
  },
  {
   "cell_type": "code",
   "execution_count": null,
   "metadata": {},
   "outputs": [],
   "source": []
  }
 ],
 "metadata": {
  "kernelspec": {
   "display_name": "Python 3",
   "language": "python",
   "name": "python3"
  },
  "language_info": {
   "codemirror_mode": {
    "name": "ipython",
    "version": 3
   },
   "file_extension": ".py",
   "mimetype": "text/x-python",
   "name": "python",
   "nbconvert_exporter": "python",
   "pygments_lexer": "ipython3",
   "version": "3.8.1"
  }
 },
 "nbformat": 4,
 "nbformat_minor": 4
}
