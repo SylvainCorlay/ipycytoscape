{
 "cells": [
  {
   "cell_type": "code",
   "execution_count": 1,
   "metadata": {},
   "outputs": [],
   "source": [
    "import ipycytoscape"
   ]
  },
  {
   "cell_type": "code",
   "execution_count": 2,
   "metadata": {},
   "outputs": [],
   "source": [
    "import json\n",
    "with open(\"geneData.json\") as fi:\n",
    "    d = json.load(fi)"
   ]
  },
  {
   "cell_type": "code",
   "execution_count": 3,
   "metadata": {},
   "outputs": [],
   "source": [
    "cytoscapeobj = ipycytoscape.CytoscapeWidget(elements=d)"
   ]
  },
  {
   "cell_type": "code",
   "execution_count": 4,
   "metadata": {},
   "outputs": [
    {
     "name": "stderr",
     "output_type": "stream",
     "text": [
      "DEBUG:root:new name \n",
      "DEBUG:root:cola\n",
      "DEBUG:root:5\n"
     ]
    }
   ],
   "source": [
    "cytoscapeobj.set_layout(name = 'cola',\n",
    "                      nodeSpacing = 5,\n",
    "                      edgeLengthVal = 45,\n",
    "                      animate = True,\n",
    "                      randomize = False,\n",
    "                      maxSimulationTime = 1500)"
   ]
  },
  {
   "cell_type": "code",
   "execution_count": 5,
   "metadata": {},
   "outputs": [],
   "source": [
    "cytoscapeobj.set_style([\n",
    "  {\n",
    "    \"selector\": \"core\",\n",
    "    \"style\": {\n",
    "      \"selection-box-color\": \"#AAD8FF\",\n",
    "      \"selection-box-border-color\": \"#8BB0D0\",\n",
    "      \"selection-box-opacity\": \"0.5\"\n",
    "    }\n",
    "  },\n",
    "  {\n",
    "    \"selector\": \"node\",\n",
    "    \"style\": {\n",
    "      \"width\": \"mapData(score, 0, 0.006769776522008331, 20, 60)\",\n",
    "      \"height\": \"mapData(score, 0, 0.006769776522008331, 20, 60)\",\n",
    "      \"content\": \"data(name)\",\n",
    "      \"font-size\": \"12px\",\n",
    "      \"text-valign\": \"center\",\n",
    "      \"text-halign\": \"center\",\n",
    "      \"background-color\": \"#555\",\n",
    "      \"text-outline-color\": \"#555\",\n",
    "      \"text-outline-width\": \"2px\",\n",
    "      \"color\": \"#fff\",\n",
    "      \"overlay-padding\": \"6px\",\n",
    "      \"z-index\": \"10\"\n",
    "    }\n",
    "  },\n",
    "  {\n",
    "    \"selector\": \"node[?attr]\",\n",
    "    \"style\": {\n",
    "      \"shape\": \"rectangle\",\n",
    "      \"background-color\": \"#aaa\",\n",
    "      \"text-outline-color\": \"#aaa\",\n",
    "      \"width\": \"16px\",\n",
    "      \"height\": \"16px\",\n",
    "      \"font-size\": \"6px\",\n",
    "      \"z-index\": \"1\"\n",
    "    }\n",
    "  },\n",
    "  {\n",
    "    \"selector\": \"node[?query]\",\n",
    "    \"style\": {\n",
    "      \"background-clip\": \"none\",\n",
    "      \"background-fit\": \"contain\"\n",
    "    }\n",
    "  },\n",
    "  {\n",
    "    \"selector\": \"node:selected\",\n",
    "    \"style\": {\n",
    "      \"border-width\": \"6px\",\n",
    "      \"border-color\": \"#AAD8FF\",\n",
    "      \"border-opacity\": \"0.5\",\n",
    "      \"background-color\": \"#77828C\",\n",
    "      \"text-outline-color\": \"#77828C\"\n",
    "    }\n",
    "  },\n",
    "  {\n",
    "    \"selector\": \"edge\",\n",
    "    \"style\": {\n",
    "      \"curve-style\": \"haystack\",\n",
    "      \"haystack-radius\": \"0.5\",\n",
    "      \"opacity\": \"0.4\",\n",
    "      \"line-color\": \"#bbb\",\n",
    "      \"width\": \"mapData(weight, 0, 1, 1, 8)\",\n",
    "      \"overlay-padding\": \"3px\"\n",
    "    }\n",
    "  },\n",
    "  {\n",
    "    \"selector\": \"node.unhighlighted\",\n",
    "    \"style\": {\n",
    "      \"opacity\": \"0.2\"\n",
    "    }\n",
    "  },\n",
    "  {\n",
    "    \"selector\": \"edge.unhighlighted\",\n",
    "    \"style\": {\n",
    "      \"opacity\": \"0.05\"\n",
    "    }\n",
    "  },\n",
    "  {\n",
    "    \"selector\": \".highlighted\",\n",
    "    \"style\": {\n",
    "      \"z-index\": \"999999\"\n",
    "    }\n",
    "  },\n",
    "  {\n",
    "    \"selector\": \"node.highlighted\",\n",
    "    \"style\": {\n",
    "      \"border-width\": \"6px\",\n",
    "      \"border-color\": \"#AAD8FF\",\n",
    "      \"border-opacity\": \"0.5\",\n",
    "      \"background-color\": \"#394855\",\n",
    "      \"text-outline-color\": \"#394855\"\n",
    "    }\n",
    "  },\n",
    "  {\n",
    "    \"selector\": \"edge.filtered\",\n",
    "    \"style\": {\n",
    "      \"opacity\": \"0\"\n",
    "    }\n",
    "  },\n",
    "  {\n",
    "    \"selector\": \"edge[group=\\\"coexp\\\"]\",\n",
    "    \"style\": {\n",
    "      \"line-color\": \"#d0b7d5\"\n",
    "    }\n",
    "  },\n",
    "  {\n",
    "    \"selector\": \"edge[group=\\\"coloc\\\"]\",\n",
    "    \"style\": {\n",
    "      \"line-color\": \"#a0b3dc\"\n",
    "    }\n",
    "  },\n",
    "  {\n",
    "    \"selector\": \"edge[group=\\\"gi\\\"]\",\n",
    "    \"style\": {\n",
    "      \"line-color\": \"#90e190\"\n",
    "    }\n",
    "  },\n",
    "  {\n",
    "    \"selector\": \"edge[group=\\\"path\\\"]\",\n",
    "    \"style\": {\n",
    "      \"line-color\": \"#9bd8de\"\n",
    "    }\n",
    "  },\n",
    "  {\n",
    "    \"selector\": \"edge[group=\\\"pi\\\"]\",\n",
    "    \"style\": {\n",
    "      \"line-color\": \"#eaa2a2\"\n",
    "    }\n",
    "  },\n",
    "  {\n",
    "    \"selector\": \"edge[group=\\\"predict\\\"]\",\n",
    "    \"style\": {\n",
    "      \"line-color\": \"#f6c384\"\n",
    "    }\n",
    "  },\n",
    "  {\n",
    "    \"selector\": \"edge[group=\\\"spd\\\"]\",\n",
    "    \"style\": {\n",
    "      \"line-color\": \"#dad4a2\"\n",
    "    }\n",
    "  },\n",
    "  {\n",
    "    \"selector\": \"edge[group=\\\"spd_attr\\\"]\",\n",
    "    \"style\": {\n",
    "      \"line-color\": \"#D0D0D0\"\n",
    "    }\n",
    "  },\n",
    "  {\n",
    "    \"selector\": \"edge[group=\\\"reg\\\"]\",\n",
    "    \"style\": {\n",
    "      \"line-color\": \"#D0D0D0\"\n",
    "    }\n",
    "  },\n",
    "  {\n",
    "    \"selector\": \"edge[group=\\\"reg_attr\\\"]\",\n",
    "    \"style\": {\n",
    "      \"line-color\": \"#D0D0D0\"\n",
    "    }\n",
    "  },\n",
    "  {\n",
    "    \"selector\": \"edge[group=\\\"user\\\"]\",\n",
    "    \"style\": {\n",
    "      \"line-color\": \"#f0ec86\"\n",
    "    }\n",
    "  }\n",
    "])"
   ]
  },
  {
   "cell_type": "code",
   "execution_count": 6,
   "metadata": {},
   "outputs": [
    {
     "data": {
      "application/vnd.jupyter.widget-view+json": {
       "model_id": "8bb121f12faa430a93a79d8a613cff44",
       "version_major": 2,
       "version_minor": 0
      },
      "text/plain": [
       "CytoscapeWidget(cytoscape_layout={'name': 'cola', 'nodeSpacing': 5, 'edgeLengthVal': 45}, cytoscape_style=[{'s…"
      ]
     },
     "metadata": {},
     "output_type": "display_data"
    }
   ],
   "source": [
    "cytoscapeobj"
   ]
  },
  {
   "cell_type": "code",
   "execution_count": 20,
   "metadata": {},
   "outputs": [
    {
     "data": {
      "application/vnd.jupyter.widget-view+json": {
       "model_id": "53dad5d378d944e8bffe1469d7257659",
       "version_major": 2,
       "version_minor": 0
      },
      "text/plain": [
       "IntSlider(value=0)"
      ]
     },
     "metadata": {},
     "output_type": "display_data"
    },
    {
     "data": {
      "application/vnd.jupyter.widget-view+json": {
       "model_id": "6af8b97a891143738db1be3f09cd08bb",
       "version_major": 2,
       "version_minor": 0
      },
      "text/plain": [
       "Output()"
      ]
     },
     "metadata": {},
     "output_type": "display_data"
    }
   ],
   "source": [
    "# connect a slider to the edgeLengthVal of the graph\n",
    "\n",
    "import ipywidgets as widgets\n",
    "\n",
    "def print_slider(val):\n",
    "    print(val)\n",
    "\n",
    "node_range = widgets.IntSlider()\n",
    "output = widgets.Output()\n",
    "display(node_range, output)\n",
    "\n",
    "def on_value_change(change):\n",
    "    with output:\n",
    "        cytoscapeobj.set_layout(nodeSpacing = node_range.value)\n",
    "\n",
    "node_range.observe(on_value_change, names='value')\n"
   ]
  }
 ],
 "metadata": {
  "kernelspec": {
   "display_name": "Python 3",
   "language": "python",
   "name": "python3"
  },
  "language_info": {
   "codemirror_mode": {
    "name": "ipython",
    "version": 3
   },
   "file_extension": ".py",
   "mimetype": "text/x-python",
   "name": "python",
   "nbconvert_exporter": "python",
   "pygments_lexer": "ipython3",
   "version": "3.8.1"
  }
 },
 "nbformat": 4,
 "nbformat_minor": 4
}
